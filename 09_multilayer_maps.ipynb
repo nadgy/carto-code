{
  "cells": [
    {
      "cell_type": "markdown",
      "id": "fd708770-59b8-4fb9-acce-2b2d837d88e6",
      "metadata": {
        "id": "fd708770-59b8-4fb9-acce-2b2d837d88e6"
      },
      "source": [
        "## Overview\n",
        "\n",
        "[Folium](https://python-visualization.github.io/folium/) supports creating maps with multiple layers. Recent versions of GeoPandas have built-in support to create interactive folium maps from a GeoDataFrame. \n",
        "\n",
        "In this section, we will create a multi-layer interactive map using 2 vector datasets."
      ]
    },
    {
      "cell_type": "markdown",
      "source": [
        "## Setup and Data Download"
      ],
      "metadata": {
        "id": "3LKOmTSadQCJ"
      },
      "id": "3LKOmTSadQCJ"
    },
    {
      "cell_type": "code",
      "source": [
        "%%capture\n",
        "if 'google.colab' in str(get_ipython()):\n",
        "  !apt install libspatialindex-dev\n",
        "  !pip install fiona shapely pyproj rtree mapclassify\n",
        "  !pip install geopandas"
      ],
      "metadata": {
        "id": "QYAcw2IjHVzi"
      },
      "id": "QYAcw2IjHVzi",
      "execution_count": null,
      "outputs": []
    },
    {
      "cell_type": "code",
      "execution_count": null,
      "id": "df487246-fb38-451f-a76d-ffbb7ad95a0f",
      "metadata": {
        "id": "df487246-fb38-451f-a76d-ffbb7ad95a0f"
      },
      "outputs": [],
      "source": [
        "import os\n",
        "import folium\n",
        "from folium import Figure\n",
        "import geopandas as gpd"
      ]
    },
    {
      "cell_type": "code",
      "source": [
        "data_folder = 'data'\n",
        "output_folder = 'output'\n",
        "\n",
        "if not os.path.exists(data_folder):\n",
        "    os.mkdir(data_folder)\n",
        "if not os.path.exists(output_folder):\n",
        "    os.mkdir(output_folder)"
      ],
      "metadata": {
        "id": "lOLD5d1yHZIC"
      },
      "id": "lOLD5d1yHZIC",
      "execution_count": null,
      "outputs": []
    },
    {
      "cell_type": "code",
      "source": [
        "def download(url):\n",
        "    filename = os.path.join(data_folder, os.path.basename(url))\n",
        "    if not os.path.exists(filename):\n",
        "        from urllib.request import urlretrieve\n",
        "        local, _ = urlretrieve(url, filename)\n",
        "        print('Downloaded ' + local)\n",
        "\n",
        "filename = 'karnataka.gpkg'\n",
        "data_url = 'https://github.com/spatialthoughts/python-dataviz-web/raw/main/data/osm/'\n",
        "download(data_url + filename)\n"
      ],
      "metadata": {
        "id": "1PVxJlqkHb0q"
      },
      "id": "1PVxJlqkHb0q",
      "execution_count": null,
      "outputs": []
    },
    {
      "cell_type": "markdown",
      "source": [
        "## Using GeoPandas explore()"
      ],
      "metadata": {
        "id": "f4eqejvHJvjG"
      },
      "id": "f4eqejvHJvjG"
    },
    {
      "cell_type": "code",
      "execution_count": null,
      "id": "f7160910-408b-43a3-818e-9adde154debc",
      "metadata": {
        "id": "f7160910-408b-43a3-818e-9adde154debc"
      },
      "outputs": [],
      "source": [
        "data_pkg_path = 'data'\n",
        "filename = 'karnataka.gpkg'\n",
        "path = os.path.join(data_pkg_path, filename)\n",
        "roads_gdf = gpd.read_file(path, layer='karnataka_highways')\n",
        "districts_gdf = gpd.read_file(path, layer='karnataka_districts')\n",
        "state_gdf = gpd.read_file(path, layer='karnataka')\n"
      ]
    },
    {
      "cell_type": "markdown",
      "id": "79f7abbe-3536-4460-bbfd-0759210fd3bc",
      "metadata": {
        "id": "79f7abbe-3536-4460-bbfd-0759210fd3bc"
      },
      "source": [
        "We can use the [explore()](https://geopandas.org/en/stable/docs/reference/api/geopandas.GeoDataFrame.explore.html) method to create an interactive folium map from the GeoDataFrame. When you call `explore()` a folium object is created. You can save that object and use it to display or add more layers to the map."
      ]
    },
    {
      "cell_type": "code",
      "execution_count": null,
      "id": "345db8df-9cb3-4cd9-9ced-5528ab173350",
      "metadata": {
        "id": "345db8df-9cb3-4cd9-9ced-5528ab173350"
      },
      "outputs": [],
      "source": [
        "m = districts_gdf.explore()\n",
        "m"
      ]
    },
    {
      "cell_type": "markdown",
      "source": [
        "The default output of the `explore()` method is a full-width folium map. If you need more control, a better approach is to create a `follium.Figure` object and add the map to it. For this approach we need to first compute the extent of the map."
      ],
      "metadata": {
        "id": "MOpQ9YgcbhNi"
      },
      "id": "MOpQ9YgcbhNi"
    },
    {
      "cell_type": "code",
      "source": [
        "bounds = districts_gdf.total_bounds\n",
        "bounds"
      ],
      "metadata": {
        "id": "ACv9xn55NGyp"
      },
      "id": "ACv9xn55NGyp",
      "execution_count": null,
      "outputs": []
    },
    {
      "cell_type": "markdown",
      "source": [
        "Now we can create a figure of the required size, and add a folium map to it. The `explore()` function takes a `m` agrument where we can supply an existing folium map to which to render the GeoDataFrame."
      ],
      "metadata": {
        "id": "WalwNLXrb9lZ"
      },
      "id": "WalwNLXrb9lZ"
    },
    {
      "cell_type": "code",
      "source": [
        "fig = Figure(width=800, height=400)\n",
        "\n",
        "m = folium.Map()\n",
        "m.fit_bounds([[bounds[1],bounds[0]], [bounds[3],bounds[2]]])\n",
        "\n",
        "districts_gdf.explore(m=m)\n",
        "\n",
        "fig.add_child(m)"
      ],
      "metadata": {
        "id": "H-H_Lh3ZMXHV"
      },
      "id": "H-H_Lh3ZMXHV",
      "execution_count": null,
      "outputs": []
    },
    {
      "cell_type": "markdown",
      "source": [
        "Folium supports a variety of basemaps. Let's change the basemap to use *Stamen Terrain* tiles. Additionally, we can change the styling using the `color` and `style_kwds` parameters."
      ],
      "metadata": {
        "id": "2i-qO9oy4ySu"
      },
      "id": "2i-qO9oy4ySu"
    },
    {
      "cell_type": "code",
      "execution_count": null,
      "id": "5d923822-6677-48d8-97af-f4f85379fc25",
      "metadata": {
        "id": "5d923822-6677-48d8-97af-f4f85379fc25"
      },
      "outputs": [],
      "source": [
        "fig = Figure(width=800, height=400)\n",
        "\n",
        "m = folium.Map(tiles='Stamen Terrain')\n",
        "m.fit_bounds([[bounds[1],bounds[0]], [bounds[3],bounds[2]]])\n",
        "\n",
        "districts_gdf.explore(\n",
        "    m=m,\n",
        "    color='black', \n",
        "    style_kwds={'fillOpacity': 0.3, 'weight': 0.5},\n",
        "  )\n",
        "\n",
        "fig.add_child(m)"
      ]
    },
    {
      "cell_type": "markdown",
      "source": [
        "Let's add the `roads_gdf` layer to the map."
      ],
      "metadata": {
        "id": "LBHjKroi6CNe"
      },
      "id": "LBHjKroi6CNe"
    },
    {
      "cell_type": "code",
      "execution_count": null,
      "id": "ee96ce02-fa46-4c32-81c9-4f795fc2dfd9",
      "metadata": {
        "id": "ee96ce02-fa46-4c32-81c9-4f795fc2dfd9"
      },
      "outputs": [],
      "source": [
        "roads_gdf"
      ]
    },
    {
      "cell_type": "markdown",
      "source": [
        "The GeoDataFrame contains roads of different categories as given in the `ref` column. Let's add a category column so we can use it to apply different styles to each category of the road."
      ],
      "metadata": {
        "id": "CQgnHD2-6GRO"
      },
      "id": "CQgnHD2-6GRO"
    },
    {
      "cell_type": "code",
      "execution_count": null,
      "id": "75656673-1461-41ca-ba9e-5279dd094341",
      "metadata": {
        "id": "75656673-1461-41ca-ba9e-5279dd094341"
      },
      "outputs": [],
      "source": [
        "def get_category(row):\n",
        "    ref = str(row['ref'])\n",
        "    if 'NH' in ref:\n",
        "        return 'NH'\n",
        "    elif 'SH' in ref:\n",
        "        return 'SH'\n",
        "    else:\n",
        "        return 'NA'\n",
        "    \n",
        "roads_gdf['category'] = roads_gdf.apply(get_category, axis=1)\n",
        "roads_gdf"
      ]
    },
    {
      "cell_type": "code",
      "execution_count": null,
      "id": "9a75c594-5640-4a74-b4cf-a16e4aff6009",
      "metadata": {
        "id": "9a75c594-5640-4a74-b4cf-a16e4aff6009"
      },
      "outputs": [],
      "source": [
        "fig = Figure(width=800, height=400)\n",
        "\n",
        "m = folium.Map()\n",
        "m.fit_bounds([[bounds[1],bounds[0]], [bounds[3],bounds[2]]])\n",
        "\n",
        "roads_gdf.explore(\n",
        "    m=m,\n",
        "    column='category', \n",
        "    categories=['NH', 'SH'], \n",
        "    cmap=['#1f78b4', '#e31a1c'],\n",
        "    categorical=True\n",
        ")\n",
        "\n",
        "fig.add_child(m)"
      ]
    },
    {
      "cell_type": "markdown",
      "source": [
        "## Create Multi-layer Maps"
      ],
      "metadata": {
        "id": "YnMD2vJqdajA"
      },
      "id": "YnMD2vJqdajA"
    },
    {
      "cell_type": "markdown",
      "id": "a36e6bde-6329-4daf-8d62-8f2a35c1b913",
      "metadata": {
        "id": "a36e6bde-6329-4daf-8d62-8f2a35c1b913"
      },
      "source": [
        "When you call `explore()` a folium object is created. You can save that object and add more layers to the same object."
      ]
    },
    {
      "cell_type": "code",
      "execution_count": null,
      "id": "87144113-39f7-4ef8-9155-fdda44bdb96f",
      "metadata": {
        "id": "87144113-39f7-4ef8-9155-fdda44bdb96f"
      },
      "outputs": [],
      "source": [
        "fig = Figure(width=800, height=400)\n",
        "\n",
        "m = folium.Map(tiles='Stamen Terrain')\n",
        "m.fit_bounds([[bounds[1],bounds[0]], [bounds[3],bounds[2]]])\n",
        "\n",
        "districts_gdf.explore(\n",
        "    m=m,\n",
        "    color='black', \n",
        "    style_kwds={'fillOpacity': 0.3, 'weight':0.5},\n",
        "    name='districts',\n",
        "    tooltip=False)\n",
        "\n",
        "roads_gdf.explore(\n",
        "    m=m,\n",
        "    column='category', \n",
        "    categories=['NH', 'SH'], \n",
        "    cmap=['#1f78b4', '#e31a1c'],\n",
        "    categorical=True,\n",
        "    name='highways'\n",
        ")\n",
        "\n",
        "fig.add_child(m)"
      ]
    },
    {
      "cell_type": "markdown",
      "id": "8bf139c8-3bce-47a2-9d7f-33415e90a8de",
      "metadata": {
        "id": "8bf139c8-3bce-47a2-9d7f-33415e90a8de"
      },
      "source": [
        "To make our map easier to explore, we also add a *Layer Control* that displays the list of layers on the top-right corner and also allows the users to turn them on or off. The `name` parameter to the `explore()` function controls the name that will be displayed in the layer control."
      ]
    },
    {
      "cell_type": "code",
      "source": [
        "folium.LayerControl().add_to(m)\n",
        "m"
      ],
      "metadata": {
        "id": "6HIqGY6oeKU9"
      },
      "id": "6HIqGY6oeKU9",
      "execution_count": null,
      "outputs": []
    },
    {
      "cell_type": "markdown",
      "id": "d4f1d2b2-3592-402d-967b-0fc7c3fc2363",
      "metadata": {
        "id": "d4f1d2b2-3592-402d-967b-0fc7c3fc2363"
      },
      "source": [
        "## Exercise\n",
        "\n",
        "Add the `state_gdf` layer to the folium map below with a thick blue border and no fill. Save the resulting map as a HTML file on your computer.\n",
        "\n",
        "Hint: Use the `style_kwds` with *'fill'* and *'weight'* options."
      ]
    },
    {
      "cell_type": "code",
      "source": [
        "fig = Figure(width=800, height=400)\n",
        "\n",
        "m = folium.Map(tiles='Stamen Terrain')\n",
        "m.fit_bounds([[bounds[1],bounds[0]], [bounds[3],bounds[2]]])\n",
        "\n",
        "districts_gdf.explore(\n",
        "    m=m,\n",
        "    color='black', \n",
        "    style_kwds={'fillOpacity': 0.3, 'weight':0.5},\n",
        "    name='districts',\n",
        "    tooltip=False)\n",
        "\n",
        "roads_gdf.explore(\n",
        "    m=m,\n",
        "    column='category', \n",
        "    categories=['NH', 'SH'], \n",
        "    cmap=['#1f78b4', '#e31a1c'],\n",
        "    categorical=True,\n",
        "    name='highways'\n",
        ")\n",
        "\n",
        "fig.add_child(m)\n",
        "folium.LayerControl().add_to(m)\n",
        "m\n"
      ],
      "metadata": {
        "id": "M4wbx6Ljeevs"
      },
      "id": "M4wbx6Ljeevs",
      "execution_count": null,
      "outputs": []
    }
  ],
  "metadata": {
    "kernelspec": {
      "display_name": "Python 3 (ipykernel)",
      "language": "python",
      "name": "python3"
    },
    "language_info": {
      "codemirror_mode": {
        "name": "ipython",
        "version": 3
      },
      "file_extension": ".py",
      "mimetype": "text/x-python",
      "name": "python",
      "nbconvert_exporter": "python",
      "pygments_lexer": "ipython3",
      "version": "3.10.5"
    },
    "colab": {
      "provenance": []
    }
  },
  "nbformat": 4,
  "nbformat_minor": 5
}
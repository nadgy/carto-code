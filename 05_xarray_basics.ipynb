{
  "cells": [
    {
      "cell_type": "markdown",
      "id": "9a244534-c0a1-41b4-9f73-2087eb72b030",
      "metadata": {
        "id": "9a244534-c0a1-41b4-9f73-2087eb72b030"
      },
      "source": [
        "## Overview\n",
        "\n",
        "Many climate and meteorological datasets come as gridded rasters in data formats such as NetCDF and GRIB. We will use [XArray](http://xarray.pydata.org/) to read, process and visualize the gridded raster dataset.\n",
        "\n",
        "Xarray is an evolution of rasterio and is inspired by libraries like pandas to work with raster datasets. It is particularly suited for working with multi-dimensional time-series raster datasets. It also integrates tightly with dask that allows one to scale raster data processing using parallel computing. XArray provides [Plotting Functions](https://xarray.pydata.org/en/stable/user-guide/plotting.html) based on Matplotlib. \n",
        "\n",
        "In this section, we will take the [Gridded Monthly Temperature Anomaly Data](https://data.giss.nasa.gov/gistemp/) from 1880-present from GISTEMP and visualize the temperature anomaly for the year 2021."
      ]
    },
    {
      "cell_type": "markdown",
      "id": "2c4204d0-acda-418f-b38a-7d5f2be15eca",
      "metadata": {
        "id": "2c4204d0-acda-418f-b38a-7d5f2be15eca"
      },
      "source": [
        "## Setup and Data Download\n",
        "\n",
        "The following blocks of code will install the required packages and download the datasets to your Colab environment."
      ]
    },
    {
      "cell_type": "code",
      "execution_count": null,
      "id": "fe6c71dd-37df-47af-9019-d012cc9b5e59",
      "metadata": {
        "id": "fe6c71dd-37df-47af-9019-d012cc9b5e59"
      },
      "outputs": [],
      "source": [
        "import os\n",
        "import matplotlib.pyplot as plt\n",
        "import xarray as xr"
      ]
    },
    {
      "cell_type": "code",
      "source": [
        "data_folder = 'data'\n",
        "output_folder = 'output'\n",
        "\n",
        "if not os.path.exists(data_folder):\n",
        "    os.mkdir(data_folder)\n",
        "if not os.path.exists(output_folder):\n",
        "    os.mkdir(output_folder)"
      ],
      "metadata": {
        "id": "5zB54v7PT1kT"
      },
      "id": "5zB54v7PT1kT",
      "execution_count": null,
      "outputs": []
    },
    {
      "cell_type": "code",
      "source": [
        "def download(url):\n",
        "    filename = os.path.join(data_folder, os.path.basename(url))\n",
        "    if not os.path.exists(filename):\n",
        "        from urllib.request import urlretrieve\n",
        "        local, _ = urlretrieve(url, filename)\n",
        "        print('Downloaded ' + local)\n",
        "\n",
        "filename = 'gistemp1200_GHCNv4_ERSSTv5.nc'\n",
        "data_url = 'https://github.com/spatialthoughts/python-dataviz-web/raw/main/data/gistemp/'\n",
        "\n",
        "download(data_url + filename)"
      ],
      "metadata": {
        "id": "0ckP_6VIT4Li"
      },
      "id": "0ckP_6VIT4Li",
      "execution_count": null,
      "outputs": []
    },
    {
      "cell_type": "markdown",
      "source": [
        "## XArray Terminology"
      ],
      "metadata": {
        "id": "fI0aLfKGUMrA"
      },
      "id": "fI0aLfKGUMrA"
    },
    {
      "cell_type": "markdown",
      "source": [
        "By convention, XArray is imported as `xr`. We use Xarray's `open_dataset()` method to read the gridded raster. The result is a `xarray.Dataset` object.\n"
      ],
      "metadata": {
        "id": "sHDVCYYKUaP6"
      },
      "id": "sHDVCYYKUaP6"
    },
    {
      "cell_type": "code",
      "execution_count": null,
      "id": "8bb938d8-46f1-4206-ac59-badb3d6eb58c",
      "metadata": {
        "id": "8bb938d8-46f1-4206-ac59-badb3d6eb58c"
      },
      "outputs": [],
      "source": [
        "file_path = os.path.join(data_folder, filename)\n",
        "ds = xr.open_dataset(file_path)\n",
        "ds"
      ]
    },
    {
      "cell_type": "markdown",
      "id": "0fd6be48-a145-4267-aba6-4b0f4c5985a8",
      "metadata": {
        "id": "0fd6be48-a145-4267-aba6-4b0f4c5985a8"
      },
      "source": [
        "The NetCDF file contains a grid of values for each month from 1880-2021 at a spatial resolution of 2 degrees. Let's understand what is contained in a Dataset.\n",
        "\n",
        "* *Variables*: This is similar to a band in a raster dataset. Each variable contains an array of values.\n",
        "* *Dimensions*: This is similar to number of array axes.\n",
        "* *Coordinates*: These are the labels for values in each dimension. \n",
        "* *Attributes*: This is the metadata associated with the dataset.\n",
        "\n",
        "<img src='https://courses.spatialthoughts.com/images/python_dataviz/xarray_terminology.png' width=800/>"
      ]
    },
    {
      "cell_type": "markdown",
      "source": [
        "A Dataset consists of one or more `xarray.DataArray` object. This is the main object that consists of a single variable with dimension names, coordinates and attributes. You can access each variable using `dataset.variable_name` syntax.\n",
        "\n",
        "Let's see the `time_bnds` variable. This contains a 2d array which has both a starting and ending time for each one averaging period."
      ],
      "metadata": {
        "id": "bWljr_MFd3V_"
      },
      "id": "bWljr_MFd3V_"
    },
    {
      "cell_type": "code",
      "source": [
        "ds.time_bnds"
      ],
      "metadata": {
        "id": "WWx2hPKhf1Dg"
      },
      "id": "WWx2hPKhf1Dg",
      "execution_count": null,
      "outputs": []
    },
    {
      "cell_type": "markdown",
      "source": [
        "The main variable of interest is = `tempanomaly` - containing the grid of temperature anomaly values at different times. Let's select that variable and store it as `da`."
      ],
      "metadata": {
        "id": "2YRrCTsvgRB2"
      },
      "id": "2YRrCTsvgRB2"
    },
    {
      "cell_type": "code",
      "source": [
        "da = ds.tempanomaly\n",
        "da"
      ],
      "metadata": {
        "id": "X_HeukeMbLRM"
      },
      "id": "X_HeukeMbLRM",
      "execution_count": null,
      "outputs": []
    },
    {
      "cell_type": "markdown",
      "source": [
        "## Selecting Data"
      ],
      "metadata": {
        "id": "uQpUHRcLjcsc"
      },
      "id": "uQpUHRcLjcsc"
    },
    {
      "cell_type": "markdown",
      "source": [
        "XArray provides a very powerful way to select subsets of data, using similar framework as Pandas. Similar to Panda's `loc` and `iloc` methods, XArray provides `sel` and `isel` methods. Since DataArray dimensions have names, these methods allow you to specify which dimension to query.\n",
        "\n",
        "Let's select the temperature anomany values for the last time step. Since we know the index (-1) of the datam we can use `isel` method."
      ],
      "metadata": {
        "id": "KygplDrZji-b"
      },
      "id": "KygplDrZji-b"
    },
    {
      "cell_type": "code",
      "source": [
        "da.isel(time=-1)"
      ],
      "metadata": {
        "id": "5b-VtoY3j4YK"
      },
      "id": "5b-VtoY3j4YK",
      "execution_count": null,
      "outputs": []
    },
    {
      "cell_type": "markdown",
      "source": [
        "We can also specify a value to query using the `sel()` method."
      ],
      "metadata": {
        "id": "Om3Ly63LlTSL"
      },
      "id": "Om3Ly63LlTSL"
    },
    {
      "cell_type": "code",
      "source": [
        "da.sel(time='2021-12-15')"
      ],
      "metadata": {
        "id": "8-JcWIsDlSv0"
      },
      "id": "8-JcWIsDlSv0",
      "execution_count": null,
      "outputs": []
    },
    {
      "cell_type": "markdown",
      "source": [
        "We can specify multiple dimensions to query for a subset. Let's extract the temperature anomaly at `lat=49`, `lon=-123` and `time='2021-06-15'`. This region experienced abnormally high temperatures in June 2021."
      ],
      "metadata": {
        "id": "O-uE_Er-mzVS"
      },
      "id": "O-uE_Er-mzVS"
    },
    {
      "cell_type": "code",
      "source": [
        "da.sel(lat=49, lon=-123, time='2021-06-15')"
      ],
      "metadata": {
        "id": "8nXZt8Fymyrb"
      },
      "id": "8nXZt8Fymyrb",
      "execution_count": null,
      "outputs": []
    },
    {
      "cell_type": "markdown",
      "source": [
        "The `sel()` method also support nearest neighbor lookups. This is useful when you do not know the exact label of the dimension, but want to find the closest one. \n",
        "\n",
        "> Tip: You can use `interp()` instead of `sel()` to interpolate the value instead of closest lookup."
      ],
      "metadata": {
        "id": "rhdaOW7OohWs"
      },
      "id": "rhdaOW7OohWs"
    },
    {
      "cell_type": "code",
      "execution_count": null,
      "id": "8a1a87fa-4986-4373-aae7-94d5ad77455d",
      "metadata": {
        "id": "8a1a87fa-4986-4373-aae7-94d5ad77455d"
      },
      "outputs": [],
      "source": [
        "da.sel(lat=28.6, lon=77.2, time='2021-05-01', method='nearest')"
      ]
    },
    {
      "cell_type": "markdown",
      "source": [
        "You can call `.values` on a DataArray to get an array of the values."
      ],
      "metadata": {
        "id": "xwzIMXHvCLvK"
      },
      "id": "xwzIMXHvCLvK"
    },
    {
      "cell_type": "code",
      "source": [
        "selected = da.sel(lat=28.6, lon=77.2, time='2021-05-01', method='nearest')\n",
        "print(selected.values)"
      ],
      "metadata": {
        "id": "5xbx3CbjCExg"
      },
      "id": "5xbx3CbjCExg",
      "execution_count": null,
      "outputs": []
    },
    {
      "cell_type": "markdown",
      "source": [
        "The `sel()` method also allows specifying range of values using Python's built-in `slice()` function. The code below will select all observationss in the year 2021."
      ],
      "metadata": {
        "id": "ztTj27_4C4lm"
      },
      "id": "ztTj27_4C4lm"
    },
    {
      "cell_type": "code",
      "source": [
        "da.sel(time=slice('2021-01-01', '2021-12-31'))"
      ],
      "metadata": {
        "id": "UpXiTCVzDFIA"
      },
      "id": "UpXiTCVzDFIA",
      "execution_count": null,
      "outputs": []
    },
    {
      "cell_type": "markdown",
      "source": [
        "## Masking and Subsetting Data\n",
        "\n",
        "XArray has a [`where()`](https://docs.xarray.dev/en/stable/generated/xarray.DataArray.where.html) function that allows you to extract a subset of the array. The code block below extracts the anomaly at a specific Lat/Lon. We then use the `.where()` function to select items that have a positive anomaly.\n"
      ],
      "metadata": {
        "id": "_-6Jw3vHJQlh"
      },
      "id": "_-6Jw3vHJQlh"
    },
    {
      "cell_type": "code",
      "source": [
        "selected = da.sel(lat=28.6, lon=77.2, method='nearest')\n",
        "selected"
      ],
      "metadata": {
        "id": "VFzKT7GHJegB"
      },
      "id": "VFzKT7GHJegB",
      "execution_count": null,
      "outputs": []
    },
    {
      "cell_type": "markdown",
      "source": [
        "We can use `drop=True` to remove all items where the condition did not match and create a subset of the data."
      ],
      "metadata": {
        "id": "HVcr1eX8McUQ"
      },
      "id": "HVcr1eX8McUQ"
    },
    {
      "cell_type": "code",
      "source": [
        "positive = selected.where(selected > 0, drop=True)\n",
        "positive"
      ],
      "metadata": {
        "id": "3HfNSaJdMB-B"
      },
      "id": "3HfNSaJdMB-B",
      "execution_count": null,
      "outputs": []
    },
    {
      "cell_type": "markdown",
      "source": [
        "## Aggregating Data"
      ],
      "metadata": {
        "id": "Jne8eqYYpLo7"
      },
      "id": "Jne8eqYYpLo7"
    },
    {
      "cell_type": "markdown",
      "id": "2bc933c5-d6c8-4029-b1c4-4db90ec0015f",
      "metadata": {
        "id": "2bc933c5-d6c8-4029-b1c4-4db90ec0015f"
      },
      "source": [
        "A very-powerful feature of XArray is the ability to easily aggregate data across dimensions - making it ideal for many remote sensing analysis. Let's calculate the average temperature anomany for the year 2021.\n",
        "\n",
        "We first select the subset for year 2021 and apply the `.mean()` aggregation across the `time` dimension."
      ]
    },
    {
      "cell_type": "code",
      "source": [
        "subset2021 = da.sel(time=slice('2021-01-01', '2021-12-31'))\n",
        "subset2021.mean(dim='time')"
      ],
      "metadata": {
        "id": "HbmF5iEHB2J6"
      },
      "id": "HbmF5iEHB2J6",
      "execution_count": null,
      "outputs": []
    },
    {
      "cell_type": "markdown",
      "source": [
        "XArray has many features easily work with time-series data such as this. We can use temporal components to aggregate the data across time. Here we take our monthly time-series of anomalies and aggregate it to a yearly time-series using the `groupby()` method.\n",
        "\n",
        "Reference: [Resampling and grouped operations](https://docs.xarray.dev/en/stable/user-guide/time-series.html#resampling-and-grouped-operations)"
      ],
      "metadata": {
        "id": "nDneOxIW_DH_"
      },
      "id": "nDneOxIW_DH_"
    },
    {
      "cell_type": "code",
      "execution_count": null,
      "id": "4b54645d-7e54-4415-911f-61ed6da2a33f",
      "metadata": {
        "id": "4b54645d-7e54-4415-911f-61ed6da2a33f"
      },
      "outputs": [],
      "source": [
        "yearly = da.groupby('time.year').mean(dim='time')\n",
        "yearly"
      ]
    },
    {
      "cell_type": "markdown",
      "source": [
        "## Exercise"
      ],
      "metadata": {
        "id": "odj6H6QOB8Hz"
      },
      "id": "odj6H6QOB8Hz"
    },
    {
      "cell_type": "markdown",
      "source": [
        "Can you find out when did the highest temperature anomaly occured at a specific location?\n",
        "\n",
        "Replace the `lat` and `lon` in the following code with your chosen location. You will see the resulting `max_anomaly` DataArray with the anomaly value along with lat, lon and time coordinates.  Extract the `time` coordinate of the resulting array and print the time when the maximum anomaly occured."
      ],
      "metadata": {
        "id": "Q3sIqKuwE3Rl"
      },
      "id": "Q3sIqKuwE3Rl"
    },
    {
      "cell_type": "code",
      "source": [
        "selected = da.sel(lat=28.6, lon=77.2, method='nearest')\n",
        "max_anomaly = selected.where(selected==selected.max(), drop=True)\n",
        "max_anomaly"
      ],
      "metadata": {
        "id": "zHHRTXr-B5fP"
      },
      "id": "zHHRTXr-B5fP",
      "execution_count": null,
      "outputs": []
    }
  ],
  "metadata": {
    "kernelspec": {
      "display_name": "Python 3 (ipykernel)",
      "language": "python",
      "name": "python3"
    },
    "language_info": {
      "codemirror_mode": {
        "name": "ipython",
        "version": 3
      },
      "file_extension": ".py",
      "mimetype": "text/x-python",
      "name": "python",
      "nbconvert_exporter": "python",
      "pygments_lexer": "ipython3",
      "version": "3.10.5"
    },
    "colab": {
      "provenance": []
    }
  },
  "nbformat": 4,
  "nbformat_minor": 5
}
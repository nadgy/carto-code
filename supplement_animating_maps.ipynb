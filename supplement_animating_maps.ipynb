{
  "cells": [
    {
      "cell_type": "markdown",
      "id": "63a4a6b3-3860-4ec1-b8a1-f781d536e400",
      "metadata": {
        "id": "63a4a6b3-3860-4ec1-b8a1-f781d536e400"
      },
      "source": [
        "### Creating Animated Maps"
      ]
    },
    {
      "cell_type": "markdown",
      "id": "31062a14-f21f-4ff6-9b96-a5bc5f5efec7",
      "metadata": {
        "id": "31062a14-f21f-4ff6-9b96-a5bc5f5efec7"
      },
      "source": [
        "We take the dataset for 2017 solar eclipse and animate the path of the solar eclipse."
      ]
    },
    {
      "cell_type": "markdown",
      "source": [
        "#### Setup and Data Download\n",
        "\n",
        "The following blocks of code will install the required packages and download the datasets to your Colab environment."
      ],
      "metadata": {
        "id": "tOzdEMTKdEK3"
      },
      "id": "tOzdEMTKdEK3"
    },
    {
      "cell_type": "code",
      "source": [
        "%%capture\n",
        "if 'google.colab' in str(get_ipython()):\n",
        "  !apt install libspatialindex-dev\n",
        "  !pip install fiona shapely pyproj rtree\n",
        "  !pip install geopandas\n",
        "  !pip install contextily"
      ],
      "metadata": {
        "id": "H3xtRd2DdH5Q"
      },
      "execution_count": null,
      "outputs": [],
      "id": "H3xtRd2DdH5Q"
    },
    {
      "cell_type": "code",
      "execution_count": null,
      "metadata": {
        "id": "2hMR9wgfyq-4"
      },
      "outputs": [],
      "source": [
        "import contextily as cx\n",
        "import geopandas as gpd\n",
        "import os\n",
        "import matplotlib.pyplot as plt\n",
        "from matplotlib.animation import FuncAnimation, PillowWriter"
      ],
      "id": "2hMR9wgfyq-4"
    },
    {
      "cell_type": "code",
      "source": [
        "data_folder = 'data'\n",
        "output_folder = 'output'\n",
        "\n",
        "if not os.path.exists(data_folder):\n",
        "    os.mkdir(data_folder)\n",
        "if not os.path.exists(output_folder):\n",
        "    os.mkdir(output_folder)"
      ],
      "metadata": {
        "id": "x7g96whjdjZ1"
      },
      "execution_count": null,
      "outputs": [],
      "id": "x7g96whjdjZ1"
    },
    {
      "cell_type": "code",
      "source": [
        "def download(url):\n",
        "    filename = os.path.join(data_folder, os.path.basename(url))\n",
        "    if not os.path.exists(filename):\n",
        "        from urllib.request import urlretrieve\n",
        "        local, _ = urlretrieve(url, filename)\n",
        "        print('Downloaded ' + local)\n",
        "\n",
        "path_shapefile = 'upath17'\n",
        "umbra_shapefile = 'umbra17'\n",
        "shapefile_exts = ['.shp', '.shx', '.dbf', '.prj']\n",
        "data_url = 'https://github.com/spatialthoughts/python-dataviz-web/raw/main/data/eclipse/'\n",
        "\n",
        "for shapefile in [path_shapefile, umbra_shapefile]:\n",
        "  for ext in shapefile_exts:\n",
        "    url = data_url + shapefile + ext\n",
        "    download(url)"
      ],
      "metadata": {
        "id": "kXOsjbAcdlf7"
      },
      "execution_count": null,
      "outputs": [],
      "id": "kXOsjbAcdlf7"
    },
    {
      "cell_type": "markdown",
      "source": [
        "#### Data Pre-Processing"
      ],
      "metadata": {
        "id": "bCLVZLHHeFOS"
      },
      "id": "bCLVZLHHeFOS"
    },
    {
      "cell_type": "code",
      "execution_count": null,
      "metadata": {
        "id": "_L4L2hY2y4y5"
      },
      "outputs": [],
      "source": [
        "path_shapefile_path = os.path.join(data_folder, path_shapefile + '.shp')\n",
        "path_gdf = gpd.read_file(path_shapefile_path)"
      ],
      "id": "_L4L2hY2y4y5"
    },
    {
      "cell_type": "code",
      "source": [
        "umbra_shapefile_path = os.path.join(data_folder, umbra_shapefile + '.shp')\n",
        "umbra_gdf = gpd.read_file(umbra_shapefile_path)"
      ],
      "metadata": {
        "id": "FGNd4SrVqYlt"
      },
      "execution_count": null,
      "outputs": [],
      "id": "FGNd4SrVqYlt"
    },
    {
      "cell_type": "code",
      "execution_count": null,
      "id": "92dc4eca-0e06-49f7-ba36-20325dca9808",
      "metadata": {
        "id": "92dc4eca-0e06-49f7-ba36-20325dca9808"
      },
      "outputs": [],
      "source": [
        "path_reprojected = path_gdf.to_crs('epsg:3857')\n",
        "umbra_reprojected = umbra_gdf.to_crs('epsg:3857')"
      ]
    },
    {
      "cell_type": "code",
      "execution_count": null,
      "id": "8d2a33a7-9766-4aa2-8c0f-b80b01db7a1b",
      "metadata": {
        "id": "8d2a33a7-9766-4aa2-8c0f-b80b01db7a1b"
      },
      "outputs": [],
      "source": [
        "path_boundary = path_reprojected.geometry.unary_union\n",
        "umbra_subset = umbra_reprojected[umbra_reprojected.geometry.intersects(path_boundary)]"
      ]
    },
    {
      "cell_type": "markdown",
      "source": [
        "#### Creating Animation\n",
        "\n",
        "We use Matplotlibs `FuncAnimation` function from the `animation` module to create an animation with each frame showing the position of the umbra through the solar eclipse.\n",
        "\n",
        "Reference: [`matplotlib.animation.FuncAnimation`](https://matplotlib.org/stable/api/_as_gen/matplotlib.animation.FuncAnimation.html)"
      ],
      "metadata": {
        "id": "8L718mTCkQV-"
      },
      "id": "8L718mTCkQV-"
    },
    {
      "cell_type": "code",
      "execution_count": null,
      "id": "98eefa76-421e-4fab-a547-097e2427ea6a",
      "metadata": {
        "id": "98eefa76-421e-4fab-a547-097e2427ea6a"
      },
      "outputs": [],
      "source": [
        "fig, ax = plt.subplots(1, 1)\n",
        "fig.set_size_inches(15,7)\n",
        "plt.tight_layout()\n",
        "\n",
        "def animate(i):\n",
        "    ax.clear()\n",
        "    # Get the point from the points list at index i\n",
        "    umbra_filtered = umbra_subset.iloc[i:i+1]\n",
        "    path_reprojected.plot(ax=ax, facecolor='#cccccc', edgecolor='#969696', alpha=0.5)\n",
        "    cx.add_basemap(ax, crs=path_reprojected.crs, source=cx.providers.OpenTopoMap)\n",
        "    umbra_filtered.plot(ax=ax, facecolor='#252525', edgecolor='#636363', alpha=0.5)\n",
        "    ax.set_axis_off()\n",
        "    props = dict(boxstyle='round', facecolor='wheat', alpha=0.5)\n",
        "    time = umbra_filtered.iloc[0].Time\n",
        "    text = 'Time: {} UTC'.format(time)\n",
        "    ax.text(0.05, 0.20, text, transform=ax.transAxes, fontsize=16,\n",
        "            verticalalignment='top', bbox=props)\n",
        "    ax.set_title('2017 Total Solar Eclipse Path', size = 18)\n",
        "\n",
        "ani = FuncAnimation(fig, animate, frames=len(umbra_subset),\n",
        "                    interval=500, repeat=True, cache_frame_data=True)\n",
        "plt.close()"
      ]
    },
    {
      "cell_type": "code",
      "execution_count": null,
      "id": "5a0ef625-3c3b-4ade-9e31-4ed8bcecbdfb",
      "metadata": {
        "id": "5a0ef625-3c3b-4ade-9e31-4ed8bcecbdfb"
      },
      "outputs": [],
      "source": [
        "import matplotlib as mpl\n",
        "mpl.rcParams['animation.embed_limit'] = 2**128\n",
        "from IPython.display import HTML\n",
        "HTML(ani.to_jshtml())"
      ]
    },
    {
      "cell_type": "code",
      "execution_count": null,
      "id": "6bed89a9-1ac7-4e24-8a6c-46eff2901201",
      "metadata": {
        "id": "6bed89a9-1ac7-4e24-8a6c-46eff2901201"
      },
      "outputs": [],
      "source": [
        "output_folder = 'output'\n",
        "output_path = os.path.join(output_folder, 'solar_eclipse.gif')\n",
        "\n",
        "ani.save(output_path, writer=PillowWriter(fps=5))"
      ]
    }
  ],
  "metadata": {
    "kernelspec": {
      "display_name": "Python 3 (ipykernel)",
      "language": "python",
      "name": "python3"
    },
    "language_info": {
      "codemirror_mode": {
        "name": "ipython",
        "version": 3
      },
      "file_extension": ".py",
      "mimetype": "text/x-python",
      "name": "python",
      "nbconvert_exporter": "python",
      "pygments_lexer": "ipython3",
      "version": "3.10.5"
    },
    "colab": {
      "provenance": []
    }
  },
  "nbformat": 4,
  "nbformat_minor": 5
}
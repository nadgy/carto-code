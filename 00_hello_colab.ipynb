{
 "cells": [
  {
   "cell_type": "markdown",
   "metadata": {
    "id": "ceEx-y9nSS2w"
   },
   "source": [
    "[Google Colab](https://colab.research.google.com/) est un environnement de bloc-notes Jupyter hébergé qui permet à quiconque d'exécuter du code Python via un navigateur Web. Il vous offre un calcul gratuit\n",
    "You can click the `+Code` button to create a new cell and enter a block of code. To run the code, click the **Run Code** button next to the cell, or press `Shirt+Enter` key."
   ]
  },
  {
   "cell_type": "code",
   "execution_count": null,
   "metadata": {
    "id": "f_43xbJERpr5"
   },
   "outputs": [],
   "source": [
    "print('Hello World')"
   ]
  },
  {
   "cell_type": "markdown",
   "metadata": {
    "id": "xjhxNMwMWnVO"
   },
   "source": [
    "### Package Management"
   ]
  },
  {
   "cell_type": "markdown",
   "metadata": {
    "id": "bWFPnmZiTjnU"
   },
   "source": [
    "Colab comes pre-installed with many Python packages. You can use a package by simply importing it."
   ]
  },
  {
   "cell_type": "code",
   "execution_count": null,
   "metadata": {
    "id": "aGpVqvmtTgKe"
   },
   "outputs": [],
   "source": [
    "import pandas as pd"
   ]
  },
  {
   "cell_type": "markdown",
   "metadata": {
    "id": "Y3VsOFzhT0Do"
   },
   "source": [
    "Each Colab notebook instance is run on a Ubuntu Linux machine in the cloud. If you want to install any packages, you can run a command by prefixing the command with a `!`. For example, you can install third-party packages via `pip` using the command `!pip`.\n",
    "\n",
    "> Tip: If you want to list all pre-install packages and their versions in your Colab environemnt, you can run `!pip list -v`."
   ]
  },
  {
   "cell_type": "code",
   "execution_count": null,
   "metadata": {
    "id": "MW-ZJkPlTzI2"
   },
   "outputs": [],
   "source": [
    "!pip install --quiet rioxarray"
   ]
  },
  {
   "cell_type": "code",
   "execution_count": null,
   "metadata": {
    "id": "mCD2S6v2Txsh"
   },
   "outputs": [],
   "source": [
    "import rioxarray"
   ]
  },
  {
   "cell_type": "markdown",
   "metadata": {
    "id": "LuI3nFTrVTMK"
   },
   "source": [
    "Some packages may also require additional binaries or local configuration. This can be achieved using package management commands for Ubuntu Linux. For example, we can run `apt` command to install specific package required for `geopandas` to work correctly."
   ]
  },
  {
   "cell_type": "code",
   "execution_count": null,
   "metadata": {
    "colab": {
     "base_uri": "https://localhost:8080/"
    },
    "id": "9F6q8qXaVP7s",
    "outputId": "a1a6a724-2a68-430e-d7a8-6deb61ef39a1"
   },
   "outputs": [
    {
     "name": "stdout",
     "output_type": "stream",
     "text": [
      "libspatialindex-dev is already the newest version (1.8.5-5).\n",
      "The following package was automatically installed and is no longer required:\n",
      "  libnvidia-common-460\n",
      "Use 'apt autoremove' to remove it.\n",
      "0 upgraded, 0 newly installed, 0 to remove and 20 not upgraded.\n"
     ]
    }
   ],
   "source": [
    "!apt install -qq libspatialindex-dev\n",
    "!pip install --quiet fiona shapely pyproj rtree\n",
    "!pip install --quiet geopandas"
   ]
  },
  {
   "cell_type": "code",
   "execution_count": null,
   "metadata": {
    "id": "yP_AfGxnWd5H"
   },
   "outputs": [],
   "source": [
    "import geopandas as gpd"
   ]
  },
  {
   "cell_type": "markdown",
   "metadata": {
    "id": "RZdVNzPaWqN-"
   },
   "source": [
    "### Data Management"
   ]
  },
  {
   "cell_type": "markdown",
   "metadata": {
    "id": "XqhJNBE1WwQP"
   },
   "source": [
    "Colab provides 100GB of disk space along with your notebook. This can be used to store your data, intermediate outputs and results. \n",
    "\n",
    "The code below will create 2 folders named 'data' and 'output' in your local filesystem."
   ]
  },
  {
   "cell_type": "code",
   "execution_count": null,
   "metadata": {
    "id": "olSHRvf1WvkW"
   },
   "outputs": [],
   "source": [
    "import os\n",
    "\n",
    "data_folder = 'data'\n",
    "output_folder = 'output'\n",
    "\n",
    "if not os.path.exists(data_folder):\n",
    "    os.mkdir(data_folder)\n",
    "if not os.path.exists(output_folder):\n",
    "    os.mkdir(output_folder)"
   ]
  },
  {
   "cell_type": "markdown",
   "metadata": {
    "id": "fLh0NSLgXXdj"
   },
   "source": [
    "We can download some data from the internet and store it in the Colab environment. Below is a helper function that uses `urllib` to fetch any file from a URL."
   ]
  },
  {
   "cell_type": "code",
   "execution_count": null,
   "metadata": {
    "id": "mj-PAdjzWsHv"
   },
   "outputs": [],
   "source": [
    "def download(url):\n",
    "    filename = os.path.join(data_folder, os.path.basename(url))\n",
    "    if not os.path.exists(filename):\n",
    "        from urllib.request import urlretrieve\n",
    "        local, _ = urlretrieve(url, filename)\n",
    "        print('Downloaded ' + local)"
   ]
  },
  {
   "cell_type": "markdown",
   "metadata": {
    "id": "cwqVMovqXr-k"
   },
   "source": [
    "Let's download the [Populated Places](https://www.naturalearthdata.com/downloads/10m-cultural-vectors/) dataset from Natural Earth."
   ]
  },
  {
   "cell_type": "code",
   "execution_count": null,
   "metadata": {
    "colab": {
     "base_uri": "https://localhost:8080/"
    },
    "id": "m-Zh7-XZXqSr",
    "outputId": "a24dfac2-aaf5-413b-a308-c505b44f6be9"
   },
   "outputs": [
    {
     "name": "stdout",
     "output_type": "stream",
     "text": [
      "Downloaded data/ne_10m_populated_places_simple.zip\n"
     ]
    }
   ],
   "source": [
    "download('https://naciscdn.org/naturalearth/10m/cultural/' + \n",
    "         'ne_10m_populated_places_simple.zip')"
   ]
  },
  {
   "cell_type": "markdown",
   "metadata": {
    "id": "yUdH_Hm5Y45w"
   },
   "source": [
    "The file is now in our local filesystem. We can construct the path to the data folder and read it using `geopandas`"
   ]
  },
  {
   "cell_type": "code",
   "execution_count": null,
   "metadata": {
    "id": "VCYS8SlSYCkk"
   },
   "outputs": [],
   "source": [
    "file = 'ne_10m_populated_places_simple.zip'\n",
    "filepath = os.path.join(data_folder, file)\n",
    "places = gpd.read_file(filepath)"
   ]
  },
  {
   "cell_type": "markdown",
   "metadata": {
    "id": "3kaEfDKPZKxo"
   },
   "source": [
    "Let's do some data processing and write the results to a new file. The code below will filter all places which are also country capitals."
   ]
  },
  {
   "cell_type": "code",
   "execution_count": null,
   "metadata": {
    "id": "TN71a2vPYjma"
   },
   "outputs": [],
   "source": [
    "capitals = places[places['adm0cap'] == 1]\n",
    "capitals"
   ]
  },
  {
   "cell_type": "markdown",
   "metadata": {
    "id": "aF3glHG_ZY4K"
   },
   "source": [
    "We can write the results to the disk as a GeoPackage file."
   ]
  },
  {
   "cell_type": "code",
   "execution_count": null,
   "metadata": {
    "id": "60Wc8XblY1XY"
   },
   "outputs": [],
   "source": [
    "output_file = 'capitals.gpkg'\n",
    "output_path = os.path.join(output_folder, output_file)\n",
    "capitals.to_file(driver='GPKG', filename=output_path)"
   ]
  },
  {
   "cell_type": "markdown",
   "metadata": {
    "id": "jVEALmycZrpM"
   },
   "source": [
    "You can open the **Files** tab from the left-hand panel in Colab and browse to the `output` folder. Locate the `capitals.gpkg` file and click the **⋮** button and select *Download* to download the file locally."
   ]
  }
 ],
 "metadata": {
  "colab": {
   "authorship_tag": "ABX9TyMj3Eog6FJeUm2jYVOZxqjS",
   "provenance": []
  },
  "kernelspec": {
   "display_name": "Python 3 (ipykernel)",
   "language": "python",
   "name": "python3"
  },
  "language_info": {
   "codemirror_mode": {
    "name": "ipython",
    "version": 3
   },
   "file_extension": ".py",
   "mimetype": "text/x-python",
   "name": "python",
   "nbconvert_exporter": "python",
   "pygments_lexer": "ipython3",
   "version": "3.11.5"
  }
 },
 "nbformat": 4,
 "nbformat_minor": 4
}

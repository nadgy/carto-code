{
  "cells": [
    {
      "cell_type": "markdown",
      "id": "791b699d-6d6e-4fe7-a370-013fb5d0f638",
      "metadata": {
        "id": "791b699d-6d6e-4fe7-a370-013fb5d0f638"
      },
      "source": [
        "### Creating A Stacked Bar Chart\n",
        "\n",
        "This example shows how to create a stacked chart with information about crime type in each bar. This visualization can plot 2 variables in a single plot."
      ]
    },
    {
      "cell_type": "markdown",
      "source": [
        "#### Setup and Data Download\n",
        "\n",
        "The following blocks of code will install the required packages and download the datasets to your Colab environment."
      ],
      "metadata": {
        "id": "ylmWkzUR3da_"
      },
      "id": "ylmWkzUR3da_"
    },
    {
      "cell_type": "code",
      "execution_count": null,
      "metadata": {
        "id": "d2563b4b-da78-43e7-8119-98d508e298a1"
      },
      "outputs": [],
      "source": [
        "import pandas as pd\n",
        "import os\n",
        "import matplotlib.pyplot as plt"
      ],
      "id": "d2563b4b-da78-43e7-8119-98d508e298a1"
    },
    {
      "cell_type": "code",
      "source": [
        "data_folder = 'data'\n",
        "output_folder = 'output'\n",
        "\n",
        "if not os.path.exists(data_folder):\n",
        "    os.mkdir(data_folder)\n",
        "if not os.path.exists(output_folder):\n",
        "    os.mkdir(output_folder)"
      ],
      "metadata": {
        "id": "RxO6kLcu36tj"
      },
      "execution_count": null,
      "outputs": [],
      "id": "RxO6kLcu36tj"
    },
    {
      "cell_type": "code",
      "source": [
        "def download(url):\n",
        "    filename = os.path.join(data_folder, os.path.basename(url))\n",
        "    if not os.path.exists(filename):\n",
        "        from urllib.request import urlretrieve\n",
        "        local, _ = urlretrieve(url, filename)\n",
        "        print('Downloaded ' + local)"
      ],
      "metadata": {
        "id": "jgGbMJrf34QG"
      },
      "execution_count": null,
      "outputs": [],
      "id": "jgGbMJrf34QG"
    },
    {
      "cell_type": "markdown",
      "metadata": {
        "id": "dca64db9-dd45-412c-af0a-63d30f686348"
      },
      "source": [
        "We have 12 different CSV files containing crime data for each month of 2020. We download each of them to the data folder."
      ],
      "id": "dca64db9-dd45-412c-af0a-63d30f686348"
    },
    {
      "cell_type": "code",
      "source": [
        "files = [\n",
        "  '2020-01-metropolitan-street.csv',\n",
        "  '2020-02-metropolitan-street.csv',\n",
        "  '2020-03-metropolitan-street.csv',\n",
        "  '2020-04-metropolitan-street.csv',\n",
        "  '2020-05-metropolitan-street.csv',\n",
        "  '2020-06-metropolitan-street.csv',\n",
        "  '2020-07-metropolitan-street.csv',\n",
        "  '2020-08-metropolitan-street.csv',\n",
        "  '2020-09-metropolitan-street.csv',\n",
        "  '2020-10-metropolitan-street.csv',\n",
        "  '2020-11-metropolitan-street.csv',\n",
        "  '2020-12-metropolitan-street.csv'\n",
        "]\n",
        "\n",
        "data_url = 'https://github.com/spatialthoughts/python-dataviz-web/raw/main/data/crime/'\n",
        "\n",
        "for f in files:\n",
        "  url = os.path.join(data_url + f)\n",
        "  download(url)\n"
      ],
      "metadata": {
        "id": "dFJeheKI4nQD"
      },
      "execution_count": null,
      "outputs": [],
      "id": "dFJeheKI4nQD"
    },
    {
      "cell_type": "markdown",
      "source": [
        "#### Data Pre-Processing"
      ],
      "metadata": {
        "id": "UiKED21n5G_V"
      },
      "id": "UiKED21n5G_V"
    },
    {
      "cell_type": "markdown",
      "metadata": {
        "id": "45d09fdc-508d-4ead-9e06-d00c721b9c62"
      },
      "source": [
        "It will be helpful to merge all 12 CSV files into a single dataframe. We can use `pd.concat()` to merge a list of dataframes."
      ],
      "id": "45d09fdc-508d-4ead-9e06-d00c721b9c62"
    },
    {
      "cell_type": "code",
      "execution_count": null,
      "metadata": {
        "id": "f301de58-846c-4273-a246-3e78ea548886"
      },
      "outputs": [],
      "source": [
        "dataframe_list = []\n",
        "\n",
        "for f in files:\n",
        "    filepath = os.path.join(data_folder, f)\n",
        "    df = pd.read_csv(filepath)\n",
        "    dataframe_list.append(df)\n",
        "\n",
        "merged_df = pd.concat(dataframe_list)"
      ],
      "id": "f301de58-846c-4273-a246-3e78ea548886"
    },
    {
      "cell_type": "code",
      "execution_count": null,
      "id": "9f3a13de-d0ac-459f-9963-eb1357cbbdb7",
      "metadata": {
        "id": "9f3a13de-d0ac-459f-9963-eb1357cbbdb7"
      },
      "outputs": [],
      "source": [
        "counts_by_type = merged_df.groupby(['Month', 'Crime type']).size()\n",
        "counts_by_type"
      ]
    },
    {
      "cell_type": "markdown",
      "id": "95e61ac7-7c3f-409a-91f6-d32ee4be0ab2",
      "metadata": {
        "id": "95e61ac7-7c3f-409a-91f6-d32ee4be0ab2"
      },
      "source": [
        "The result is not in a suitable format for plotting. We call `unstack()` to create a dataframe. "
      ]
    },
    {
      "cell_type": "code",
      "execution_count": null,
      "id": "3546f451-9e7e-4c86-a9eb-fcc265553043",
      "metadata": {
        "id": "3546f451-9e7e-4c86-a9eb-fcc265553043"
      },
      "outputs": [],
      "source": [
        "counts_df = counts_by_type.unstack()\n",
        "counts_df"
      ]
    },
    {
      "cell_type": "markdown",
      "source": [
        "#### Creating a Chart"
      ],
      "metadata": {
        "id": "uJwII0AY1uG5"
      },
      "id": "uJwII0AY1uG5"
    },
    {
      "cell_type": "markdown",
      "id": "0711beb7-b0cb-42c4-8839-1e7aa93237da",
      "metadata": {
        "id": "0711beb7-b0cb-42c4-8839-1e7aa93237da"
      },
      "source": [
        "Now we can create the stacked bar chart. Instead of the default legend, we create a horizontal legend with a frame using the `legend()` function."
      ]
    },
    {
      "cell_type": "code",
      "execution_count": 12,
      "id": "30736e16-e080-4fa9-a57f-d9557508c63d",
      "metadata": {
        "id": "30736e16-e080-4fa9-a57f-d9557508c63d",
        "outputId": "f0edd963-1c51-4602-93ec-5e53c6b4f2dc",
        "colab": {
          "base_uri": "https://localhost:8080/",
          "height": 716
        }
      },
      "outputs": [
        {
          "output_type": "display_data",
          "data": {
            "text/plain": [
              "<Figure size 1440x720 with 1 Axes>"
            ],
            "image/png": "[encoded data removed]"
          },
          "metadata": {
            "needs_background": "light"
          }
        }
      ],
      "source": [
        "fig, ax = plt.subplots(1, 1)\n",
        "fig.set_size_inches(20,10)\n",
        "counts_df.plot(kind='bar', stacked=True, ax=ax, colormap='tab20')\n",
        "ax.legend(loc='upper center', ncol=5, frameon=True, bbox_to_anchor=(0.5, 1.1), fancybox=True, shadow=True)\n",
        "ax.spines['right'].set_visible(False)\n",
        "ax.spines['top'].set_visible(False)\n",
        "ax.set_xlabel('Year', size = 15)\n",
        "ax.set_ylabel('Number of Incidents', size = 15)\n",
        "ax.set_title('Crime in London (2020)', size = 18, y=1.1)\n",
        "output_folder = 'output'\n",
        "output_path = os.path.join(output_folder, 'stacked_chart.jpg')\n",
        "plt.savefig(output_path)\n",
        "plt.show()"
      ]
    }
  ],
  "metadata": {
    "kernelspec": {
      "display_name": "Python 3 (ipykernel)",
      "language": "python",
      "name": "python3"
    },
    "language_info": {
      "codemirror_mode": {
        "name": "ipython",
        "version": 3
      },
      "file_extension": ".py",
      "mimetype": "text/x-python",
      "name": "python",
      "nbconvert_exporter": "python",
      "pygments_lexer": "ipython3",
      "version": "3.10.5"
    },
    "colab": {
      "provenance": []
    }
  },
  "nbformat": 4,
  "nbformat_minor": 5
}
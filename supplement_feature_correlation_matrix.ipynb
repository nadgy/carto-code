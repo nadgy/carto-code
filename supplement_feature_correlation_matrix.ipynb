{
  "nbformat": 4,
  "nbformat_minor": 0,
  "metadata": {
    "colab": {
      "provenance": []
    },
    "kernelspec": {
      "name": "python3",
      "display_name": "Python 3"
    },
    "language_info": {
      "name": "python"
    }
  },
  "cells": [
    {
      "cell_type": "markdown",
      "source": [
        "### Feature Correlation Matrix\n",
        "\n",
        "Correlation Matrix is used in Machine Learning to identify redudant features that are correlated. We will take a table of feature samples generated from a multiband image and create a correlation matrix. This matrix is used to identify and visualize patterns in the given data and select features for a machine learning model."
      ],
      "metadata": {
        "id": "2Ga37IzNKZMQ"
      }
    },
    {
      "cell_type": "markdown",
      "source": [
        "#### Setup and Data Download\n",
        "\n",
        "The following blocks of code will install the required packages and download the datasets to your Colab environment."
      ],
      "metadata": {
        "id": "Yw-ng19RK7On"
      }
    },
    {
      "cell_type": "code",
      "execution_count": 1,
      "metadata": {
        "id": "SvjTh0LeDp2_"
      },
      "outputs": [],
      "source": [
        "import matplotlib.pyplot as plt\n",
        "import os\n",
        "import pandas as pd\n",
        "import numpy as np"
      ]
    },
    {
      "cell_type": "code",
      "source": [
        "data_folder = 'data'\n",
        "output_folder = 'output'\n",
        "\n",
        "if not os.path.exists(data_folder):\n",
        "    os.mkdir(data_folder)\n",
        "if not os.path.exists(output_folder):\n",
        "    os.mkdir(output_folder)"
      ],
      "metadata": {
        "id": "mRZbI8geDs9p"
      },
      "execution_count": 2,
      "outputs": []
    },
    {
      "cell_type": "code",
      "source": [
        "def download(url):\n",
        "    filename = os.path.join(data_folder, os.path.basename(url))\n",
        "    if not os.path.exists(filename):\n",
        "        from urllib.request import urlretrieve\n",
        "        local, _ = urlretrieve(url, filename)\n",
        "        print('Downloaded ' + local)\n",
        "\n",
        "data_url = 'https://github.com/spatialthoughts/python-dataviz-web/raw/main/data/misc/'\n",
        "csv_name = 'feature_sample_data.csv'\n",
        "\n",
        "download(data_url + csv_name)\n",
        "\n"
      ],
      "metadata": {
        "colab": {
          "base_uri": "https://localhost:8080/"
        },
        "id": "Ld7TgYWnEAcJ",
        "outputId": "7431996c-ffe4-406f-d4fa-e02f54cbd747"
      },
      "execution_count": 3,
      "outputs": [
        {
          "output_type": "stream",
          "name": "stdout",
          "text": [
            "Downloaded data/feature_sample_data.csv\n"
          ]
        }
      ]
    },
    {
      "cell_type": "markdown",
      "source": [
        "#### Data Pre-Processing"
      ],
      "metadata": {
        "id": "7a2vrG2cF1uF"
      }
    },
    {
      "cell_type": "code",
      "source": [
        "csv_path = os.path.join(data_folder, csv_name)\n",
        "table = pd.read_csv(csv_path)"
      ],
      "metadata": {
        "id": "TZt265mHFPqB"
      },
      "execution_count": 10,
      "outputs": []
    },
    {
      "cell_type": "markdown",
      "source": [
        "We use Pandas' [`pd.DataFrame.corr()`](https://pandas.pydata.org/pandas-docs/stable/reference/api/pandas.DataFrame.corr.html) method to calculate pairwise Pearson's Correlation Coefficient for each variable.\n",
        "\n"
      ],
      "metadata": {
        "id": "J8wfJ6XaLAaI"
      }
    },
    {
      "cell_type": "code",
      "source": [
        "correlations = table.corr()"
      ],
      "metadata": {
        "id": "XUx5J4J6GDw_"
      },
      "execution_count": 11,
      "outputs": []
    },
    {
      "cell_type": "markdown",
      "source": [
        "#### Plotting using Matplotlib\n",
        "\n",
        "We can use Matplotlib's [`matplotlib.pyplot.matshow`](https://matplotlib.org/stable/api/_as_gen/matplotlib.pyplot.matshow.html) to display any array as a matrix.\n"
      ],
      "metadata": {
        "id": "ad6-___wJYdW"
      }
    },
    {
      "cell_type": "code",
      "source": [
        "fig, ax = plt.subplots(1, 1)\n",
        "fig.set_size_inches(18,18)\n",
        "im = ax.matshow(correlations, vmin=-1, vmax=1)\n",
        "fig.colorbar(im, shrink=0.8)\n",
        "\n",
        "ticks = np.arange(0,len(table.columns),1)\n",
        "ax.set_xticks(ticks)\n",
        "ax.set_yticks(ticks)\n",
        "ax.set_xticklabels(table.columns)\n",
        "ax.set_yticklabels(table.columns)\n",
        "\n",
        "\n",
        "output_folder = 'output'\n",
        "output_path = os.path.join(output_folder, 'correlation_matrix.png')\n",
        "\n",
        "plt.savefig(output_path, dpi=300)\n",
        "plt.show()"
      ],
      "metadata": {
        "colab": {
          "base_uri": "https://localhost:8080/",
          "height": 855
        },
        "id": "4hiZLELYGyDF",
        "outputId": "f095e355-f44d-4ddf-eba8-a09b2f57e6d3"
      },
      "execution_count": 7,
      "outputs": [
        {
          "output_type": "display_data",
          "data": {
            "text/plain": [
              "<Figure size 1296x1296 with 2 Axes>"
            ],
            "image/png": "[encoded data removed]"
          },
          "metadata": {
            "needs_background": "light"
          }
        }
      ]
    }
  ]
}
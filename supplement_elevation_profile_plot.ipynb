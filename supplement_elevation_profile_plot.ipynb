{
  "cells": [
    {
      "cell_type": "markdown",
      "id": "73a214db-9299-47c2-86c1-7e574e56936b",
      "metadata": {
        "id": "73a214db-9299-47c2-86c1-7e574e56936b"
      },
      "source": [
        "### Elevation Profile Plot from a GPS Track\n",
        "\n",
        "We will take a GPS track recorded from Strava app and create an elevation profile plot."
      ]
    },
    {
      "cell_type": "markdown",
      "source": [
        "#### Setup and Data Download\n",
        "\n",
        "The following blocks of code will install the required packages and download the datasets to your Colab environment."
      ],
      "metadata": {
        "id": "Dilk9LqQdf-c"
      },
      "id": "Dilk9LqQdf-c"
    },
    {
      "cell_type": "code",
      "source": [
        "%%capture\n",
        "if 'google.colab' in str(get_ipython()):\n",
        "  !apt install libspatialindex-dev\n",
        "  !pip install fiona shapely pyproj rtree mapclassify\n",
        "  !pip install geopandas"
      ],
      "metadata": {
        "id": "kSUgro5ddXPf"
      },
      "execution_count": null,
      "outputs": [],
      "id": "kSUgro5ddXPf"
    },
    {
      "cell_type": "code",
      "execution_count": null,
      "metadata": {
        "id": "e59f2b5d-e9d5-4a62-91ef-d583118e6b36"
      },
      "outputs": [],
      "source": [
        "import geopandas as gpd\n",
        "import matplotlib.pyplot as plt\n",
        "import matplotlib.dates as mdates\n",
        "import os\n",
        "import pandas as pd\n"
      ],
      "id": "e59f2b5d-e9d5-4a62-91ef-d583118e6b36"
    },
    {
      "cell_type": "code",
      "source": [
        "data_folder = 'data'\n",
        "output_folder = 'output'\n",
        "\n",
        "if not os.path.exists(data_folder):\n",
        "    os.mkdir(data_folder)\n",
        "if not os.path.exists(output_folder):\n",
        "    os.mkdir(output_folder)"
      ],
      "metadata": {
        "id": "q44TVIV_eQhd"
      },
      "execution_count": null,
      "outputs": [],
      "id": "q44TVIV_eQhd"
    },
    {
      "cell_type": "code",
      "source": [
        "def download(url):\n",
        "    filename = os.path.join(data_folder, os.path.basename(url))\n",
        "    if not os.path.exists(filename):\n",
        "        from urllib.request import urlretrieve\n",
        "        local, _ = urlretrieve(url, filename)\n",
        "        print('Downloaded ' + local)"
      ],
      "metadata": {
        "id": "PuH1yQv2eWwN"
      },
      "execution_count": null,
      "outputs": [],
      "id": "PuH1yQv2eWwN"
    },
    {
      "cell_type": "code",
      "source": [
        "filename = 'summit.gpx'\n",
        "data_url = 'https://github.com/spatialthoughts/python-dataviz-web/raw/main/data/gps/'\n",
        "\n",
        "download(data_url + filename)"
      ],
      "metadata": {
        "id": "3_qYdsQk3_iG"
      },
      "id": "3_qYdsQk3_iG",
      "execution_count": null,
      "outputs": []
    },
    {
      "cell_type": "markdown",
      "source": [
        "#### Data Pre-Processing"
      ],
      "metadata": {
        "id": "ekvX6uIP4GdH"
      },
      "id": "ekvX6uIP4GdH"
    },
    {
      "cell_type": "code",
      "execution_count": null,
      "id": "8803d858-dff2-40df-8f8e-6658dfb2b9b6",
      "metadata": {
        "id": "8803d858-dff2-40df-8f8e-6658dfb2b9b6"
      },
      "outputs": [],
      "source": [
        "gpx_path = os.path.join(data_folder, filename)\n",
        "# GPX files contain many layers. Read the 'track_points' layer\n",
        "gdf = gpd.read_file(gpx_path, layer='track_points')\n",
        "gdf = gdf[['track_fid','ele', 'time', 'geometry']]\n",
        "gdf"
      ]
    },
    {
      "cell_type": "markdown",
      "id": "7420fc23-0632-4f9a-abd4-7bcef5b1e959",
      "metadata": {
        "id": "7420fc23-0632-4f9a-abd4-7bcef5b1e959"
      },
      "source": [
        "Let's use the timestamp contained in the 'time' column as the index. This will allow us to filter and plot the time-series data easily. We must first convert the time column to datetime type with an appropriate timezone."
      ]
    },
    {
      "cell_type": "code",
      "execution_count": null,
      "id": "82031ccc-d64b-44bc-8651-997320a96c5f",
      "metadata": {
        "id": "82031ccc-d64b-44bc-8651-997320a96c5f"
      },
      "outputs": [],
      "source": [
        "gdf['time'] = pd.to_datetime(gdf['time'])\n",
        "gdf = gdf.set_index('time')\n",
        "gdf.index = gdf.index.tz_convert('Asia/Kolkata')\n",
        "gdf"
      ]
    },
    {
      "cell_type": "markdown",
      "id": "7b63b04d-a454-4d40-83d0-291bb1f40e33",
      "metadata": {
        "id": "7b63b04d-a454-4d40-83d0-291bb1f40e33"
      },
      "source": [
        "Using time as index allows us to filter the data as follows"
      ]
    },
    {
      "cell_type": "code",
      "execution_count": null,
      "id": "8e7eaa4d-e022-43a5-b359-95626e48ecc1",
      "metadata": {
        "id": "8e7eaa4d-e022-43a5-b359-95626e48ecc1"
      },
      "outputs": [],
      "source": [
        "gdf_subset = gdf['2022-04-04T06:15:00':'2022-04-04T10:45:00']\n",
        "gdf_subset"
      ]
    },
    {
      "cell_type": "markdown",
      "id": "4c1b61e7-0ac3-4183-9eef-c38857b94e1b",
      "metadata": {
        "id": "4c1b61e7-0ac3-4183-9eef-c38857b94e1b"
      },
      "source": [
        "We can now plot the elevation against the timestamp using Matplotlib. Since we have a large number of timestamps, we can use `set_major_locator()` to define what labels will be present on the axis.\n",
        "\n",
        "Since our timestamps are timezone aware, we can also plot a timezone name (i.e. IST) along with the label."
      ]
    },
    {
      "cell_type": "markdown",
      "id": "10b03a80-1a9e-4d56-b0fe-c79ec1db2113",
      "metadata": {
        "id": "10b03a80-1a9e-4d56-b0fe-c79ec1db2113"
      },
      "source": [
        "We can also use a different style for our plot. You can run `plt.style.available` to see all available styles."
      ]
    },
    {
      "cell_type": "code",
      "execution_count": 13,
      "id": "8a9c6ad5-4a32-4203-b363-8313578f46df",
      "metadata": {
        "id": "8a9c6ad5-4a32-4203-b363-8313578f46df"
      },
      "outputs": [],
      "source": [
        "plt.style.use('ggplot')"
      ]
    },
    {
      "cell_type": "code",
      "execution_count": 14,
      "id": "5db17c65-ad41-41f0-a887-a36e894488ae",
      "metadata": {
        "id": "5db17c65-ad41-41f0-a887-a36e894488ae",
        "outputId": "f352946f-9c36-4e9e-a2e4-06da69cc0b9c",
        "colab": {
          "base_uri": "https://localhost:8080/",
          "height": 518
        }
      },
      "outputs": [
        {
          "output_type": "display_data",
          "data": {
            "text/plain": [
              "<Figure size 1080x504 with 1 Axes>"
            ],
            "image/png": "[encoded data removed]"
          },
          "metadata": {}
        }
      ],
      "source": [
        "fig, ax = plt.subplots(1, 1)\n",
        "fig.set_size_inches(15,7)\n",
        "gdf_subset['ele'].plot(kind='line', ax=ax, color='#2b8cbe')\n",
        "plt.tight_layout()\n",
        "plt.title('Elevation Profile', fontsize = 18)\n",
        "plt.ylabel('Elevation (meters)', size = 15)\n",
        "plt.xlabel(None)\n",
        "# Show a tick every 30 minute\n",
        "xlocator = mdates.MinuteLocator(interval=30)\n",
        "\n",
        "xformat = mdates.DateFormatter('%H:%M %Z', tz=gdf.index.tz)  # adds some extra formatting, but not required\n",
        "\n",
        "ax.xaxis.set_major_locator(xlocator)\n",
        "ax.xaxis.set_major_formatter(xformat)\n",
        "ax.set_ylim([3200, 3700])\n",
        "ax.fill_between(gdf.index, gdf['ele'].values, color='grey', alpha=0.3)\n",
        "plt.show()"
      ]
    },
    {
      "cell_type": "code",
      "execution_count": null,
      "id": "77996bea-e82a-4f61-9e66-9f5c496c7088",
      "metadata": {
        "id": "77996bea-e82a-4f61-9e66-9f5c496c7088"
      },
      "outputs": [],
      "source": [
        "plt.style.use('default')"
      ]
    }
  ],
  "metadata": {
    "kernelspec": {
      "display_name": "Python 3 (ipykernel)",
      "language": "python",
      "name": "python3"
    },
    "language_info": {
      "codemirror_mode": {
        "name": "ipython",
        "version": 3
      },
      "file_extension": ".py",
      "mimetype": "text/x-python",
      "name": "python",
      "nbconvert_exporter": "python",
      "pygments_lexer": "ipython3",
      "version": "3.10.5"
    },
    "colab": {
      "provenance": []
    }
  },
  "nbformat": 4,
  "nbformat_minor": 5
}
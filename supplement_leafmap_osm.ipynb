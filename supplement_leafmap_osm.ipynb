{
 "cells": [
  {
   "cell_type": "markdown",
   "id": "fd708770-59b8-4fb9-acce-2b2d837d88e6",
   "metadata": {
    "id": "fd708770-59b8-4fb9-acce-2b2d837d88e6"
   },
   "source": [
    "### Downloading and Visualizing OSM Data with LeafMap\n",
    "\n",
    "[Leafmap](https://leafmap.org/) comes with handy utilities to work with OpenStreetMap data. Using the popular package OSMNx in the background, it provides utility functions to download and visualize data from the OSM database.\n",
    "\n",
    "* [Leafmap OpenStreetMap Features](https://leafmap.org/notebooks/15_openstreetmap/)\n",
    "* [`leafmap.osm` module](https://leafmap.org/osm/)"
   ]
  },
  {
   "cell_type": "markdown",
   "id": "3LKOmTSadQCJ",
   "metadata": {
    "id": "3LKOmTSadQCJ"
   },
   "source": [
    "#### Setup and Data Download"
   ]
  },
  {
   "cell_type": "code",
   "execution_count": null,
   "id": "QYAcw2IjHVzi",
   "metadata": {
    "id": "QYAcw2IjHVzi"
   },
   "outputs": [],
   "source": [
    "%%capture\n",
    "if 'google.colab' in str(get_ipython()):\n",
    "  !apt install libspatialindex-dev\n",
    "  !pip install fiona shapely pyproj rtree mapclassify\n",
    "  !pip install geopandas\n",
    "  !pip install leafmap\n",
    "  !pip install osmnx"
   ]
  },
  {
   "cell_type": "code",
   "execution_count": null,
   "id": "df487246-fb38-451f-a76d-ffbb7ad95a0f",
   "metadata": {
    "id": "df487246-fb38-451f-a76d-ffbb7ad95a0f"
   },
   "outputs": [],
   "source": [
    "import os\n",
    "import geopandas as gpd\n",
    "import folium\n",
    "import leafmap.foliumap as leafmap\n",
    "import osmnx"
   ]
  },
  {
   "cell_type": "code",
   "execution_count": null,
   "id": "lOLD5d1yHZIC",
   "metadata": {
    "id": "lOLD5d1yHZIC"
   },
   "outputs": [],
   "source": [
    "data_folder = 'data'\n",
    "output_folder = 'output'\n",
    "\n",
    "if not os.path.exists(data_folder):\n",
    "    os.mkdir(data_folder)\n",
    "if not os.path.exists(output_folder):\n",
    "    os.mkdir(output_folder)"
   ]
  },
  {
   "cell_type": "markdown",
   "id": "s2ctVyYCL1My",
   "metadata": {
    "id": "s2ctVyYCL1My"
   },
   "source": [
    "#### Downloading OSM Data\n",
    "\n",
    "We can easily download data for a city or a region by its name using the `leafmap.osm_gdf_from_place()` function. We can specify the list of required tags using a dictionary. See [OSM Wiki](https://wiki.openstreetmap.org/wiki/Map_features) for a complete list of tags and values.\n",
    "\n",
    "You can also download data using a bounding box using `leafmap.osm.osm_gdf_from_bbox()` function.\n",
    "\n",
    "Reference: [`leafmap.osm_gdf_from_place`](https://leafmap.org/osm/#leafmap.osm.osm_gdf_from_place)"
   ]
  },
  {
   "cell_type": "code",
   "execution_count": null,
   "id": "pgtYUNiVFX4g",
   "metadata": {
    "id": "pgtYUNiVFX4g"
   },
   "outputs": [],
   "source": [
    "parking_gdf = leafmap.osm_gdf_from_place(\n",
    "    'Bangalore', \n",
    "    tags={'amenity': ['parking', 'parking_space', 'parking_entrance']}\n",
    "  )"
   ]
  },
  {
   "cell_type": "markdown",
   "id": "barXYHWRQBFz",
   "metadata": {
    "id": "barXYHWRQBFz"
   },
   "source": [
    "The GeoDataFrame has a hierarchical MultiIndex. Let's flatten it using `reset_index()`"
   ]
  },
  {
   "cell_type": "code",
   "execution_count": null,
   "id": "RhuVE398QAN2",
   "metadata": {
    "id": "RhuVE398QAN2"
   },
   "outputs": [],
   "source": [
    "parking_gdf = parking_gdf.reset_index(level=[0,1])"
   ]
  },
  {
   "cell_type": "markdown",
   "id": "6DnG3atVPREl",
   "metadata": {
    "id": "6DnG3atVPREl"
   },
   "source": [
    "The result has many columns. Let's filter to required columns."
   ]
  },
  {
   "cell_type": "code",
   "execution_count": null,
   "id": "6ofMoieSPhEc",
   "metadata": {
    "id": "6ofMoieSPhEc"
   },
   "outputs": [],
   "source": [
    "parking_gdf_subset = parking_gdf[['amenity','parking', 'access', 'geometry']]"
   ]
  },
  {
   "cell_type": "markdown",
   "id": "DlbfrQCLOYwC",
   "metadata": {
    "id": "DlbfrQCLOYwC"
   },
   "source": [
    "The results contains both points and polygon features. Let's separate them out."
   ]
  },
  {
   "cell_type": "code",
   "execution_count": null,
   "id": "YRHJE44uIR1c",
   "metadata": {
    "id": "YRHJE44uIR1c"
   },
   "outputs": [],
   "source": [
    "parking_zones = parking_gdf_subset[\n",
    "    parking_gdf_subset['geometry'].apply(lambda x : x.type == 'Polygon' )]\n",
    "parking_locations = parking_gdf_subset[\n",
    "    parking_gdf_subset['geometry'].apply(lambda x : x.type == 'Point' )]"
   ]
  },
  {
   "cell_type": "markdown",
   "id": "xQmFVcWyOTrb",
   "metadata": {
    "id": "xQmFVcWyOTrb"
   },
   "source": [
    "We can save the resulting GeoDataFrame to a GeoPackage."
   ]
  },
  {
   "cell_type": "code",
   "execution_count": null,
   "id": "wZD4DMqVOSim",
   "metadata": {
    "id": "wZD4DMqVOSim"
   },
   "outputs": [],
   "source": [
    "output_file = 'parking.gpkg'\n",
    "output_path = os.path.join(output_folder, output_file)\n",
    "parking_zones.to_file(driver='GPKG', filename=output_path, layer='zones')\n",
    "parking_locations.to_file(driver='GPKG', filename=output_path, layer='locations')"
   ]
  },
  {
   "cell_type": "markdown",
   "id": "J6z0xlR3RrIZ",
   "metadata": {
    "id": "J6z0xlR3RrIZ"
   },
   "source": [
    "### Visualizing OSM Data\n",
    "\n",
    "The `leafmap.osm` module has many functions that can add OSM data directy to the map. Here we use `add_osm_from_geocode()` function to add the boundary of a region from OSM. In addition, we can select a basemap from `leafmap.basemaps.keys()` for the map."
   ]
  },
  {
   "cell_type": "code",
   "execution_count": null,
   "id": "Is8x1-6uH-f1",
   "metadata": {
    "id": "Is8x1-6uH-f1"
   },
   "outputs": [],
   "source": [
    "m = leafmap.Map(width=800, height=500)\n",
    "m.add_basemap('CartoDB.DarkMatter')\n",
    "m.add_osm_from_geocode('Bangalore', layer_name='Bangalore', info_mode=None)\n",
    "m"
   ]
  },
  {
   "cell_type": "markdown",
   "id": "W7CrLGyPNAXg",
   "metadata": {
    "id": "W7CrLGyPNAXg"
   },
   "source": [
    "We can add the GeoDataFrame to the map as well using GeoPanda's `explore()` function which allows us to customize the marker's shape, size for the point layer."
   ]
  },
  {
   "cell_type": "code",
   "execution_count": null,
   "id": "X-_2NU76NQPq",
   "metadata": {
    "id": "X-_2NU76NQPq"
   },
   "outputs": [],
   "source": [
    "m = leafmap.Map(width=800, height=500)\n",
    "m.add_basemap('CartoDB.DarkMatter')\n",
    "m.add_osm_from_geocode('Bangalore', layer_name='Bangalore', info_mode=None)\n",
    "parking_zones.explore(\n",
    "    style_kwds={'fillOpacity': 0.3, 'weight': 0.5},\n",
    "    color='orange',\n",
    "    name='parking zones',\n",
    "    m=m)\n",
    "parking_locations.explore(\n",
    "    marker_type='circle',\n",
    "    marker_kwds={'radius': 1},\n",
    "    color='yellow',\n",
    "    name='parking locations',\n",
    "    m=m)\n",
    "m"
   ]
  }
 ],
 "metadata": {
  "colab": {
   "provenance": []
  },
  "kernelspec": {
   "display_name": "Python 3 (ipykernel)",
   "language": "python",
   "name": "python3"
  },
  "language_info": {
   "codemirror_mode": {
    "name": "ipython",
    "version": 3
   },
   "file_extension": ".py",
   "mimetype": "text/x-python",
   "name": "python",
   "nbconvert_exporter": "python",
   "pygments_lexer": "ipython3",
   "version": "3.10.8"
  }
 },
 "nbformat": 4,
 "nbformat_minor": 5
}
